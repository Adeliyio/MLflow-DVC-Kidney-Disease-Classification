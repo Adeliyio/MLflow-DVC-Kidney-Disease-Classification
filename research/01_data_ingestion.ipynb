{
 "cells": [
  {
   "cell_type": "code",
   "execution_count": 1,
   "metadata": {},
   "outputs": [],
   "source": [
    "import os"
   ]
  },
  {
   "cell_type": "code",
   "execution_count": 2,
   "metadata": {},
   "outputs": [
    {
     "data": {
      "text/plain": [
       "'c:\\\\Users\\\\User\\\\Desktop\\\\Project Anchor\\\\MLflow-DVC-Kidney-Disease-Classification\\\\research'"
      ]
     },
     "execution_count": 2,
     "metadata": {},
     "output_type": "execute_result"
    }
   ],
   "source": [
    "%pwd"
   ]
  },
  {
   "cell_type": "code",
   "execution_count": 3,
   "metadata": {},
   "outputs": [],
   "source": [
    "os.chdir(\"../\")"
   ]
  },
  {
   "cell_type": "code",
   "execution_count": 4,
   "metadata": {},
   "outputs": [
    {
     "data": {
      "text/plain": [
       "'c:\\\\Users\\\\User\\\\Desktop\\\\Project Anchor\\\\MLflow-DVC-Kidney-Disease-Classification'"
      ]
     },
     "execution_count": 4,
     "metadata": {},
     "output_type": "execute_result"
    }
   ],
   "source": [
    "%pwd"
   ]
  },
  {
   "cell_type": "code",
   "execution_count": 7,
   "metadata": {},
   "outputs": [],
   "source": [
    "# Create Entity (the return type of any function)\n",
    "from dataclasses import dataclass\n",
    "from pathlib import Path\n",
    "\n",
    "@dataclass(frozen=True)\n",
    "class DataIngestionConfig:\n",
    "    \"\"\"Configuration class for data ingestion.\"\"\"\n",
    "\n",
    "    root_dir: Path        # Root directory where data will be stored\n",
    "    source_URL: str       # URL from where the data will be downloaded\n",
    "    local_data_file: Path  # Path to the local data file\n",
    "    unzip_dir: Path       # Directory where the data will be extracted after downloading\n"
   ]
  },
  {
   "cell_type": "code",
   "execution_count": 6,
   "metadata": {},
   "outputs": [],
   "source": [
    "from cnnClassifier.constants import *\n",
    "from cnnClassifier.utils.common import read_yaml,create_directories"
   ]
  },
  {
   "cell_type": "code",
   "execution_count": 8,
   "metadata": {},
   "outputs": [],
   "source": [
    "# Class for managing configuration settings\n",
    "class ConfigurationManager:\n",
    "    def __init__(\n",
    "        self,\n",
    "        config_filepath=CONFIG_FILE_PATH,  # Path to the configuration file\n",
    "        params_filepath=PARAMS_FILE_PATH   # Path to the parameters file\n",
    "    ):\n",
    "        # Initialize the configuration and parameters\n",
    "        self.config = read_yaml(config_filepath)  # Read configuration from YAML file\n",
    "        self.params = read_yaml(params_filepath)  # Read parameters from YAML file\n",
    "\n",
    "        # Create necessary directories\n",
    "        create_directories([self.config.artifacts_root])\n",
    "\n",
    "    # Method to retrieve data ingestion configuration\n",
    "    def get_data_ingestion_config(self) -> DataIngestionConfig:\n",
    "        # Get data ingestion configuration from the main configuration\n",
    "        config = self.config.data_ingestion\n",
    "\n",
    "        # Create directories specified in the configuration\n",
    "        create_directories([config.root_dir])\n",
    "\n",
    "        # Create DataIngestionConfig object using the retrieved configuration\n",
    "        data_ingestion_config = DataIngestionConfig(\n",
    "            root_dir=config.root_dir,              # Root directory for data ingestion\n",
    "            source_URL=config.source_URL,          # URL for data source\n",
    "            local_data_file=config.local_data_file,# Path to local data file\n",
    "            unzip_dir=config.unzip_dir            # Directory for extracted data\n",
    "        )\n",
    "\n",
    "        return data_ingestion_config\n"
   ]
  },
  {
   "cell_type": "code",
   "execution_count": 9,
   "metadata": {},
   "outputs": [],
   "source": [
    "import os\n",
    "import zipfile\n",
    "import gdown\n",
    "from cnnClassifier import logger\n",
    "from cnnClassifier.utils.common import get_size"
   ]
  },
  {
   "cell_type": "code",
   "execution_count": 10,
   "metadata": {},
   "outputs": [],
   "source": [
    "class DataIngestion:\n",
    "    def __init__(self, config: DataIngestionConfig):\n",
    "        \"\"\"\n",
    "        Initializes DataIngestion instance with provided configuration.\n",
    "\n",
    "        Args:\n",
    "            config (DataIngestionConfig): Configuration for data ingestion.\n",
    "        \"\"\"\n",
    "        self.config = config\n",
    "\n",
    "    def download_file(self) -> str:\n",
    "        \"\"\"\n",
    "        Downloads data from the specified URL.\n",
    "\n",
    "        Returns:\n",
    "            str: Path to the downloaded file.\n",
    "        \"\"\"\n",
    "        try:\n",
    "            dataset_url = self.config.source_URL\n",
    "            zip_download_dir = self.config.local_data_file\n",
    "\n",
    "            # Create directory for downloaded data if it doesn't exist\n",
    "            os.makedirs(\"artifacts/data_ingestion\", exist_ok=True)\n",
    "\n",
    "            logger.info(f\"Downloading data from {dataset_url} into file {zip_download_dir}\")\n",
    "\n",
    "            # Extract file ID from the dataset URL\n",
    "            file_id = dataset_url.split(\"/\")[-2]\n",
    "            prefix = 'https://drive.google.com/uc?/export=download&id='\n",
    "\n",
    "            # Download the file using gdown library\n",
    "            gdown.download(prefix + file_id, zip_download_dir)\n",
    "\n",
    "            logger.info(f\"Downloaded data from {dataset_url} into file {zip_download_dir}\")\n",
    "\n",
    "            return zip_download_dir\n",
    "\n",
    "        except Exception as e:\n",
    "            raise e\n",
    "\n",
    "    def extract_zip_file(self):\n",
    "        \"\"\"\n",
    "        Extracts the contents of the zip file into the specified directory.\n",
    "        \"\"\"\n",
    "        unzip_path = self.config.unzip_dir\n",
    "\n",
    "        # Create directory for extracted data if it doesn't exist\n",
    "        os.makedirs(unzip_path, exist_ok=True)\n",
    "\n",
    "        # Extract the zip file\n",
    "        with zipfile.ZipFile(self.config.local_data_file, 'r') as zip_ref:\n",
    "            zip_ref.extractall(unzip_path)\n"
   ]
  },
  {
   "cell_type": "code",
   "execution_count": 11,
   "metadata": {},
   "outputs": [
    {
     "name": "stdout",
     "output_type": "stream",
     "text": [
      "[2024-03-05 15:13:36,301: INFO: common: YAML file 'config\\config.yaml' loaded successfully]\n",
      "[2024-03-05 15:13:36,319: INFO: common: YAML file 'params.yaml' loaded successfully]\n",
      "[2024-03-05 15:13:36,321: INFO: common: Created directory at: artifacts]\n",
      "[2024-03-05 15:13:36,323: INFO: common: Created directory at: artifacts/data_ingestion]\n",
      "[2024-03-05 15:13:36,324: INFO: 1284514612: Downloading data from https://drive.google.com/file/d/1e9oof67nDls9kd6CRzhJvk8Le3WmIh5y/view?usp=sharing into file artifacts/data_ingestion/data.zip]\n"
     ]
    },
    {
     "name": "stderr",
     "output_type": "stream",
     "text": [
      "Downloading...\n",
      "From (original): https://drive.google.com/uc?/export=download&id=1e9oof67nDls9kd6CRzhJvk8Le3WmIh5y\n",
      "From (redirected): https://drive.google.com/uc?%2Fexport=download&id=1e9oof67nDls9kd6CRzhJvk8Le3WmIh5y&confirm=t&uuid=5a2db451-cc59-4221-a6ae-53e7c51c7024\n",
      "To: c:\\Users\\User\\Desktop\\Project Anchor\\MLflow-DVC-Kidney-Disease-Classification\\artifacts\\data_ingestion\\data.zip\n",
      "100%|██████████| 940M/940M [01:57<00:00, 8.02MB/s] "
     ]
    },
    {
     "name": "stdout",
     "output_type": "stream",
     "text": [
      "[2024-03-05 15:15:35,738: INFO: 1284514612: Downloaded data from https://drive.google.com/file/d/1e9oof67nDls9kd6CRzhJvk8Le3WmIh5y/view?usp=sharing into file artifacts/data_ingestion/data.zip]\n"
     ]
    },
    {
     "name": "stderr",
     "output_type": "stream",
     "text": [
      "\n"
     ]
    }
   ],
   "source": [
    "try:\n",
    "    # Initialize ConfigurationManager to get configuration settings\n",
    "    config_manager = ConfigurationManager()\n",
    "\n",
    "    # Get data ingestion configuration from the configuration manager\n",
    "    data_ingestion_config = config_manager.get_data_ingestion_config()\n",
    "\n",
    "    # Initialize DataIngestion with the obtained configuration\n",
    "    data_ingestion = DataIngestion(config=data_ingestion_config)\n",
    "\n",
    "    # Download data from the specified URL\n",
    "    data_ingestion.download_file()\n",
    "\n",
    "    # Extract the downloaded zip file\n",
    "    data_ingestion.extract_zip_file()\n",
    "\n",
    "except Exception as e:\n",
    "    # If any exception occurs during the process, raise it with the original traceback\n",
    "    raise e\n"
   ]
  }
 ],
 "metadata": {
  "kernelspec": {
   "display_name": "kidney",
   "language": "python",
   "name": "python3"
  },
  "language_info": {
   "codemirror_mode": {
    "name": "ipython",
    "version": 3
   },
   "file_extension": ".py",
   "mimetype": "text/x-python",
   "name": "python",
   "nbconvert_exporter": "python",
   "pygments_lexer": "ipython3",
   "version": "3.8.18"
  }
 },
 "nbformat": 4,
 "nbformat_minor": 2
}
